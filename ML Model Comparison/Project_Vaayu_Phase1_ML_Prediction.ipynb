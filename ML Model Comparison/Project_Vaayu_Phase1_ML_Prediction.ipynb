{
 "cells": [
  {
   "cell_type": "markdown",
   "id": "405f7487",
   "metadata": {},
   "source": [
    "# 🌬️ Project Vaayu - Phase 1\n",
    "\n",
    "**AQI Prediction using ML Models**"
   ]
  },
  {
   "cell_type": "markdown",
   "id": "e342f5d3",
   "metadata": {},
   "source": [
    "### 1. Import Required Libraries"
   ]
  },
  {
   "cell_type": "code",
   "execution_count": null,
   "id": "a3cae89f",
   "metadata": {},
   "outputs": [],
   "source": [
    "\n",
    "import pandas as pd\n",
    "import numpy as np\n",
    "from sklearn.model_selection import train_test_split, GridSearchCV, cross_val_score\n",
    "from sklearn.preprocessing import StandardScaler\n",
    "from sklearn.metrics import mean_absolute_error, mean_squared_error, r2_score\n",
    "from sklearn.ensemble import RandomForestRegressor, BaggingRegressor\n",
    "from xgboost import XGBRegressor\n",
    "from catboost import CatBoostRegressor\n",
    "from imblearn.over_sampling import SMOTE\n",
    "from sklearn.impute import KNNImputer\n",
    "import matplotlib.pyplot as plt\n",
    "import seaborn as sns\n",
    "    "
   ]
  },
  {
   "cell_type": "markdown",
   "id": "08c48469",
   "metadata": {},
   "source": [
    "### 2. Load and Preprocess Dataset"
   ]
  },
  {
   "cell_type": "code",
   "execution_count": null,
   "id": "bf655165",
   "metadata": {},
   "outputs": [],
   "source": [
    "\n",
    "# Replace this with your actual dataset path\n",
    "df = pd.read_csv(\"your_dataset.csv\")  \n",
    "\n",
    "# KNN Imputation for missing values\n",
    "imputer = KNNImputer(n_neighbors=3)\n",
    "df_imputed = pd.DataFrame(imputer.fit_transform(df), columns=df.columns)\n",
    "\n",
    "# Feature-target split\n",
    "X = df_imputed.drop('AQI', axis=1)\n",
    "y = df_imputed['AQI']\n",
    "\n",
    "# Normalize features\n",
    "scaler = StandardScaler()\n",
    "X_scaled = scaler.fit_transform(X)\n",
    "\n",
    "# Balance using SMOTE\n",
    "sm = SMOTE(random_state=42)\n",
    "X_res, y_res = sm.fit_resample(X_scaled, y)\n",
    "\n",
    "# Train-test split\n",
    "X_train, X_test, y_train, y_test = train_test_split(X_res, y_res, test_size=0.2, random_state=42)\n",
    "    "
   ]
  },
  {
   "cell_type": "markdown",
   "id": "a76ae7af",
   "metadata": {},
   "source": [
    "### 3. Define Model Training & Evaluation Function"
   ]
  },
  {
   "cell_type": "code",
   "execution_count": null,
   "id": "58063c2a",
   "metadata": {},
   "outputs": [],
   "source": [
    "\n",
    "def train_and_evaluate(model, model_name):\n",
    "    model.fit(X_train, y_train)\n",
    "    preds = model.predict(X_test)\n",
    "    mae = mean_absolute_error(y_test, preds)\n",
    "    rmse = np.sqrt(mean_squared_error(y_test, preds))\n",
    "    r2 = r2_score(y_test, preds)\n",
    "    \n",
    "    print(f\"\\n{model_name} Performance:\")\n",
    "    print(f\"MAE: {mae:.4f}\")\n",
    "    print(f\"RMSE: {rmse:.4f}\")\n",
    "    print(f\"R²: {r2:.4f}\")\n",
    "    \n",
    "    # Plot actual vs predicted\n",
    "    plt.figure(figsize=(6,4))\n",
    "    sns.scatterplot(x=y_test, y=preds, alpha=0.6)\n",
    "    plt.xlabel(\"Actual AQI\")\n",
    "    plt.ylabel(\"Predicted AQI\")\n",
    "    plt.title(f\"{model_name}: Actual vs Predicted AQI\")\n",
    "    plt.grid(True)\n",
    "    plt.show()\n",
    "    "
   ]
  },
  {
   "cell_type": "markdown",
   "id": "5a3e0f8a",
   "metadata": {},
   "source": [
    "### 4. Train and Evaluate All ML Models"
   ]
  },
  {
   "cell_type": "code",
   "execution_count": null,
   "id": "07246f48",
   "metadata": {},
   "outputs": [],
   "source": [
    "\n",
    "# Random Forest\n",
    "rf_model = RandomForestRegressor(n_estimators=10, random_state=42)\n",
    "train_and_evaluate(rf_model, \"Random Forest Regressor\")\n",
    "\n",
    "# CatBoost\n",
    "cat_model = CatBoostRegressor(iterations=100, learning_rate=0.1, depth=6, silent=True)\n",
    "train_and_evaluate(cat_model, \"CatBoost Regressor\")\n",
    "\n",
    "# XGBoost\n",
    "xgb_model = XGBRegressor(n_estimators=10, learning_rate=0.1, verbosity=0)\n",
    "train_and_evaluate(xgb_model, \"XGBoost Regressor\")\n",
    "\n",
    "# Bagging Regressor\n",
    "bag_model = BaggingRegressor(n_estimators=1000, random_state=42)\n",
    "train_and_evaluate(bag_model, \"Bagging Regressor\")\n",
    "    "
   ]
  },
  {
   "cell_type": "markdown",
   "id": "5b12af30",
   "metadata": {},
   "source": [
    "### 5. Optional: 5-Fold Cross-Validation Scores"
   ]
  },
  {
   "cell_type": "code",
   "execution_count": null,
   "id": "d1e7cec8",
   "metadata": {},
   "outputs": [],
   "source": [
    "\n",
    "def cross_validate(model, name):\n",
    "    scores = cross_val_score(model, X_scaled, y, cv=5, scoring='r2')\n",
    "    print(f\"\\n{name} 5-Fold R² Scores: {scores}\")\n",
    "    print(f\"Average R²: {np.mean(scores):.4f}\")\n",
    "\n",
    "cross_validate(rf_model, \"Random Forest\")\n",
    "cross_validate(cat_model, \"CatBoost\")\n",
    "cross_validate(xgb_model, \"XGBoost\")\n",
    "cross_validate(bag_model, \"Bagging\")\n",
    "    "
   ]
  }
 ],
 "metadata": {},
 "nbformat": 4,
 "nbformat_minor": 5
}
